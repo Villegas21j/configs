{
  "cells": [
    {
      "cell_type": "markdown",
      "metadata": {
        "id": "view-in-github",
        "colab_type": "text"
      },
      "source": [
        "<a href=\"https://colab.research.google.com/github/Villegas21j/configs/blob/main/Pufferpanel.ipynb\" target=\"_parent\"><img src=\"https://colab.research.google.com/assets/colab-badge.svg\" alt=\"Open In Colab\"/></a>"
      ]
    },
    {
      "cell_type": "code",
      "execution_count": null,
      "metadata": {
        "id": "L7eVY9RbrN_O",
        "cellView": "form"
      },
      "outputs": [],
      "source": [
        "\n",
        "# @markdown ##**[❗]  Set up** {display-mode: \"form\"}\n",
        "\n",
        "\n",
        "from google.colab import drive\n",
        "drive.mount('/content/drive')\n",
        "!curl -fsSL https://pkgs.tailscale.com/stable/ubuntu/bionic.gpg | sudo apt-key add -\n",
        "!curl -fsSL https://pkgs.tailscale.com/stable/ubuntu/bionic.list | sudo tee /etc/apt/sources.list.d/tailscale.list\n",
        "!curl -s https://packagecloud.io/install/repositories/pufferpanel/pufferpanel/script.deb.sh?any=true | sudo bash\n",
        "!sudo apt-get install pufferpanel\n",
        "!sudo apt-get install tailscale"
      ]
    },
    {
      "cell_type": "markdown",
      "source": [
        "# 🔥 **Starting**\n",
        "---"
      ],
      "metadata": {
        "id": "gKQTGtAh-AM7"
      }
    },
    {
      "cell_type": "code",
      "source": [
        "#solo ejecutar una vez\n",
        "# @markdown ##[solo ejecutar una vez]\n",
        "!mkdir /content/drive/MyDrive/minecraft\n",
        "!mkdir /content/drive/MyDrive/minecraft/panel\n",
        "%cd /content/drive/MyDrive/minecraft/panel\n",
        "!wget https://raw.githubusercontent.com/Villegas21j/configs/04135729f88977af8cd052ea1ed7cb86254e37ca/config.json\n",
        "!mkdir /content/drive/MyDrive/minecraft/panel/www\n",
        "%cd /content/drive/MyDrive/minecraft/panel/www"
      ],
      "metadata": {
        "id": "ohv1u_jFKNTD",
        "cellView": "form"
      },
      "execution_count": null,
      "outputs": []
    },
    {
      "cell_type": "markdown",
      "source": [
        "# ▶ **or** 🛑  **panel**\n",
        "---\n",
        "The main panel for your servers"
      ],
      "metadata": {
        "id": "IqdED8RT-7Pi"
      }
    },
    {
      "cell_type": "code",
      "execution_count": null,
      "metadata": {
        "id": "Mjs-lV6pWfE0",
        "cellView": "form"
      },
      "outputs": [],
      "source": [
        "# @markdown\n",
        "!chmod 777 /content/drive/MyDrive/minecraft/panel/binaries/java21\n",
        "!sudo pufferpanel runService --workDir /content/drive/MyDrive/minecraft/panel --config /content/drive/MyDrive/minecraft/panel/config.json"
      ]
    },
    {
      "cell_type": "markdown",
      "source": [],
      "metadata": {
        "id": "LmE6vBgG_ogw"
      }
    },
    {
      "cell_type": "code",
      "source": [
        "#prender primero el server una vez p@ra que se cree el sqlite\n",
        "!pufferpanel user add --email josue20camacaro@gmail.com --name Villegas21j --password 33305219J --admin --workDir /content/drive/MyDrive/minecraft/panel --config /content/drive/MyDrive/minecraft/panel/config.json"
      ],
      "metadata": {
        "id": "QQx6D-W0QP-u"
      },
      "execution_count": null,
      "outputs": []
    },
    {
      "cell_type": "code",
      "execution_count": null,
      "metadata": {
        "id": "-0ri4J5GdiCq",
        "collapsed": true
      },
      "outputs": [],
      "source": [
        "#test se puede hacer con playit\n",
        "\n",
        "!nohup sudo tailscaled --tun=userspace-networking --socket=/run/tailscale/tailscaled.sock --port 41641 --state=/tmp/tailscaled/tailscaled.state  --statedir /tmp/tailscaled/ >$log_path/tailscaled.txt 2>&1 &\n",
        "!tailscale up --authkey  --hostname colab"
      ]
    },
    {
      "cell_type": "code",
      "source": [
        "!nohup sudo tailscaled --tun=userspace-networking --socket=/run/tailscale/tailscaled.sock --port 41641 --state=/tmp/tailscaled/tailscaled.state  --statedir /tmp/tailscaled/ >$log_path/tailscaled.txt 2>&1 &\n",
        "!tailscale logout"
      ],
      "metadata": {
        "id": "TFrcBI8FaJOo"
      },
      "execution_count": null,
      "outputs": []
    }
  ],
  "metadata": {
    "colab": {
      "provenance": [],
      "authorship_tag": "ABX9TyMZqXn/AaQLgTsoSYWh9r35",
      "include_colab_link": true
    },
    "kernelspec": {
      "display_name": "Python 3",
      "name": "python3"
    },
    "language_info": {
      "name": "python"
    }
  },
  "nbformat": 4,
  "nbformat_minor": 0
}